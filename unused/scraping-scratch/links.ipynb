{
 "cells": [
  {
   "cell_type": "markdown",
   "metadata": {},
   "source": [
    "# imports the website"
   ]
  },
  {
   "cell_type": "code",
   "execution_count": 2,
   "metadata": {},
   "outputs": [],
   "source": [
    "from urllib.request import urlopen"
   ]
  },
  {
   "cell_type": "code",
   "execution_count": 3,
   "metadata": {},
   "outputs": [],
   "source": [
    "url = \"https://mbmbam.fandom.com/wiki/List_of_Final_Yahoo!s\""
   ]
  },
  {
   "cell_type": "code",
   "execution_count": 4,
   "metadata": {},
   "outputs": [],
   "source": [
    "page = urlopen(url)"
   ]
  },
  {
   "cell_type": "code",
   "execution_count": 5,
   "metadata": {},
   "outputs": [],
   "source": [
    "# decodes to html\n",
    "html_bytes = page.read()\n",
    "html = html_bytes.decode(\"utf-8\")\n"
   ]
  },
  {
   "cell_type": "markdown",
   "metadata": {},
   "source": [
    "# gets relevant urls"
   ]
  },
  {
   "cell_type": "markdown",
   "metadata": {},
   "source": [
    "### w bs4"
   ]
  },
  {
   "cell_type": "code",
   "execution_count": 6,
   "metadata": {},
   "outputs": [],
   "source": [
    "from bs4 import BeautifulSoup"
   ]
  },
  {
   "cell_type": "code",
   "execution_count": 7,
   "metadata": {},
   "outputs": [],
   "source": [
    "soup = BeautifulSoup(html_bytes, \"html.parser\")"
   ]
  },
  {
   "cell_type": "code",
   "execution_count": 8,
   "metadata": {},
   "outputs": [],
   "source": [
    "hyperlinks = soup.find_all(\"a\")"
   ]
  },
  {
   "cell_type": "code",
   "execution_count": 9,
   "metadata": {},
   "outputs": [
    {
     "data": {
      "text/plain": [
       "<a class=\"external text\" href=\"https://answers.yahoo.com/question/index?qid=20180228212541AAT0txT\" rel=\"nofollow noreferrer noopener\" target=\"_blank\">Can you get two drinks at once at Red lobster?</a>"
      ]
     },
     "execution_count": 9,
     "metadata": {},
     "output_type": "execute_result"
    }
   ],
   "source": [
    "hyperlinks[1002]"
   ]
  },
  {
   "cell_type": "markdown",
   "metadata": {},
   "source": [
    "### w regex"
   ]
  },
  {
   "cell_type": "code",
   "execution_count": 10,
   "metadata": {},
   "outputs": [],
   "source": [
    "import re"
   ]
  },
  {
   "cell_type": "code",
   "execution_count": 15,
   "metadata": {},
   "outputs": [],
   "source": [
    "# regex 2 match\n",
    "ex = 'https://web.archive.org/.*'\n",
    "# ex = 'http://web.archive.org/.*'\n",
    "# ex = 'https://answers.yahoo.com/question/.*'\n",
    "# ex = 'href'"
   ]
  },
  {
   "cell_type": "code",
   "execution_count": 20,
   "metadata": {},
   "outputs": [],
   "source": [
    "# finds all examples\n",
    "matches = re.findall(ex, html)"
   ]
  },
  {
   "cell_type": "code",
   "execution_count": 21,
   "metadata": {},
   "outputs": [
    {
     "data": {
      "text/plain": [
       "'https://web.archive.org/web/20160412135136/https://answers.yahoo.com/question/index?qid=20100523125517AAyg7GR\">I think I have Pepsi stuck in my lungs. What should I do?</a></i>\"</td>'"
      ]
     },
     "execution_count": 21,
     "metadata": {},
     "output_type": "execute_result"
    }
   ],
   "source": [
    "matches[0]"
   ]
  },
  {
   "cell_type": "code",
   "execution_count": 17,
   "metadata": {},
   "outputs": [],
   "source": [
    "# cuts out post-string garbage\n",
    "cut_matches = []\n",
    "for match in matches:\n",
    "    cut_ind = match.find('>')\n",
    "    cut_matches.append(match[:cut_ind - 1])"
   ]
  },
  {
   "cell_type": "code",
   "execution_count": 22,
   "metadata": {},
   "outputs": [
    {
     "name": "stdout",
     "output_type": "stream",
     "text": [
      "['https://web.archive.org/web/20160412135136/https://answers.yahoo.com/question/index?qid=20100523125517AAyg7GR', 'https://web.archive.org/web/20160412141447/https://answers.yahoo.com/question/index?qid=20110509155305AATRVvO', 'https://web.archive.org/web/20210411223212/https://answers.yahoo.com/question/index?qid=20100619122058AAzGLnf', 'https://web.archive.org/web/20160412144301/https://answers.yahoo.com/question/index?qid=20100626065216AAD62kJ', 'https://web.archive.org/web/20160413022448/https://answers.yahoo.com/question/index?qid=20100703201947AA06lK2', 'https://web.archive.org/web/20160413033313/https://answers.yahoo.com/question/index?qid=20100711204342AAhqzrR', 'https://web.archive.org/web/20160412133558/https://answers.yahoo.com/question/index?qid=20091202084745AA5SO9T', 'https://web.archive.org/web/20160412142003/https://answers.yahoo.com/question/index?qid=20100726064351AA0c61D', 'https://web.archive.org/web/20160412143742/https://answers.yahoo.com/question/index?qid=20100323092103AAx8UIV', 'https://web.archive.org/web/20160413161559/https://answers.yahoo.com/question/index?qid=20100808063615AA5UsAd', 'https://web.archive.org/web/20160413160355/https://answers.yahoo.com/question/index?qid=20090103071540AAzcIZA', 'https://web.archive.org/web/20160412133600/https://answers.yahoo.com/question/index?qid=20100502021826AA96G07', 'https://web.archive.org/web/20160412140936/https://answers.yahoo.com/question/index?qid=20100913205313AAfkcxi', 'https://web.archive.org/web/20160412134011/https://answers.yahoo.com/question/index?qid=20090831233905AAF7sEx', 'https://web.archive.org/web/20160412132735/https://answers.yahoo.com/question/index?qid=20100210233437AAdqnQB', 'https://web.archive.org/web/20160412140244/https://answers.yahoo.com/question/index?qid=20101004202455AAJdrnm', 'https://web.archive.org/web/20200217210219/https://answers.yahoo.com/question/index?qid=20181028052548AAUmbH1', 'https://web.archive.org/web/20181121053048/https://answers.yahoo.com/question/index?qid=20181028113302AAkF6Lc', 'https://web.archive.org/web/20210406223210/https://answers.yahoo.com/question/index?qid=20210406222245AAq85IL', 'https://web.archive.org/web/20210419172432/https://answers.yahoo.com/question/index?qid=20210406190805AAiKsRH', 'https://web.archive.org/web/20210430001430/https://answers.yahoo.com/question/index?qid=20210419114144AA3rhPn', 'https://web.archive.org/web/20210429215222/https://answers.yahoo.com/question/index?qid=20210327062817AAjzJB5']\n"
     ]
    }
   ],
   "source": [
    "print(cut_matches)"
   ]
  },
  {
   "cell_type": "code",
   "execution_count": 31,
   "metadata": {},
   "outputs": [
    {
     "data": {
      "text/plain": [
       "'https://answers.yahoo.com/question/index?qid=20100411170231AA8Dpqu'"
      ]
     },
     "execution_count": 31,
     "metadata": {},
     "output_type": "execute_result"
    }
   ],
   "source": [
    "# dump list to file\n",
    "target_path = 'data/links'\n",
    "name = 'yahoo'\n",
    "with open(f\"{target_path}/{name}.jsonl\", 'w') as f:\n",
    "    for link in cut_matches:\n",
    "        json.dump(item, f)\n",
    "        f.write('\\n')"
   ]
  },
  {
   "cell_type": "code",
   "execution_count": null,
   "metadata": {},
   "outputs": [],
   "source": []
  }
 ],
 "metadata": {
  "kernelspec": {
   "display_name": "base",
   "language": "python",
   "name": "python3"
  },
  "language_info": {
   "codemirror_mode": {
    "name": "ipython",
    "version": 3
   },
   "file_extension": ".py",
   "mimetype": "text/x-python",
   "name": "python",
   "nbconvert_exporter": "python",
   "pygments_lexer": "ipython3",
   "version": "3.12.6"
  }
 },
 "nbformat": 4,
 "nbformat_minor": 2
}
