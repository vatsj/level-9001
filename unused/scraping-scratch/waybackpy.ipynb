{
 "cells": [
  {
   "cell_type": "markdown",
   "metadata": {},
   "source": [
    "## waybackpy test"
   ]
  },
  {
   "cell_type": "code",
   "execution_count": 1,
   "metadata": {},
   "outputs": [],
   "source": [
    "from waybackpy import WaybackMachineCDXServerAPI"
   ]
  },
  {
   "cell_type": "code",
   "execution_count": 8,
   "metadata": {},
   "outputs": [],
   "source": [
    "link = \"https://answers.yahoo.com/question/index?qid=20110705100002AAyWpMd\"\n",
    "user_agent = ''\n",
    "cdx_api = WaybackMachineCDXServerAPI(link, user_agent)"
   ]
  },
  {
   "cell_type": "code",
   "execution_count": 10,
   "metadata": {},
   "outputs": [],
   "source": [
    "oldest = cdx_api.oldest()"
   ]
  },
  {
   "cell_type": "code",
   "execution_count": 12,
   "metadata": {},
   "outputs": [
    {
     "data": {
      "text/plain": [
       "'https://web.archive.org/web/20160412081608/https://answers.yahoo.com/question/index?qid=20110705100002AAyWpMd'"
      ]
     },
     "execution_count": 12,
     "metadata": {},
     "output_type": "execute_result"
    }
   ],
   "source": [
    "oldest.archive_url"
   ]
  }
 ],
 "metadata": {
  "kernelspec": {
   "display_name": "9001",
   "language": "python",
   "name": "python3"
  },
  "language_info": {
   "codemirror_mode": {
    "name": "ipython",
    "version": 3
   },
   "file_extension": ".py",
   "mimetype": "text/x-python",
   "name": "python",
   "nbconvert_exporter": "python",
   "pygments_lexer": "ipython3",
   "version": "3.12.6"
  }
 },
 "nbformat": 4,
 "nbformat_minor": 2
}
