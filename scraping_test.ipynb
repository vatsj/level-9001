{
 "cells": [
  {
   "cell_type": "code",
   "execution_count": 11,
   "metadata": {},
   "outputs": [
    {
     "name": "stdout",
     "output_type": "stream",
     "text": [
      "The autoreload extension is already loaded. To reload it, use:\n",
      "  %reload_ext autoreload\n"
     ]
    }
   ],
   "source": [
    "# magic!\n",
    "%load_ext autoreload\n",
    "%autoreload 2"
   ]
  },
  {
   "cell_type": "code",
   "execution_count": 12,
   "metadata": {},
   "outputs": [],
   "source": [
    "from urllib.request import urlopen"
   ]
  },
  {
   "cell_type": "code",
   "execution_count": 60,
   "metadata": {},
   "outputs": [],
   "source": [
    "# default tests\n",
    "# url = \"http://web.archive.org/web/20160412135825/https://answers.yahoo.com/question/index?qid=20100415070241AAgB6Pj\"\n",
    "# url = \"https://web.archive.org/web/20160412132840/https://answers.yahoo.com/question/index?qid=20100411170231AA8Dpqu#\"\n",
    "# url = \"http://web.archive.org/web/20160412132733/https://answers.yahoo.com/question/index?qid=20100429075107AAYRWIW#\"\n",
    "# url = \"https://web.archive.org/web/20160412135135/https://answers.yahoo.com/question/index?qid=20100421071200AAZqvMf\""
   ]
  },
  {
   "cell_type": "code",
   "execution_count": 10,
   "metadata": {},
   "outputs": [],
   "source": [
    "# from wayback infra\n",
    "url = 'https://web.archive.org/web/20160412081608/https://answers.yahoo.com/question/index?qid=20110705100002AAyWpMd'"
   ]
  },
  {
   "cell_type": "code",
   "execution_count": 13,
   "metadata": {},
   "outputs": [],
   "source": [
    "page = urlopen(url)"
   ]
  },
  {
   "cell_type": "code",
   "execution_count": 14,
   "metadata": {},
   "outputs": [],
   "source": [
    "# decodes to html\n",
    "html_bytes = page.read()\n",
    "html = html_bytes.decode(\"utf-8\")\n"
   ]
  },
  {
   "cell_type": "markdown",
   "metadata": {},
   "source": [
    "## elicits relevant data"
   ]
  },
  {
   "cell_type": "markdown",
   "metadata": {},
   "source": [
    "### BeautifulSoup for main content"
   ]
  },
  {
   "cell_type": "code",
   "execution_count": 15,
   "metadata": {},
   "outputs": [],
   "source": [
    "from bs4 import BeautifulSoup"
   ]
  },
  {
   "cell_type": "code",
   "execution_count": 16,
   "metadata": {},
   "outputs": [],
   "source": [
    "soup = BeautifulSoup(html_bytes, \"html.parser\")"
   ]
  },
  {
   "cell_type": "markdown",
   "metadata": {},
   "source": [
    "# testing scraping.py infra"
   ]
  },
  {
   "cell_type": "code",
   "execution_count": 17,
   "metadata": {},
   "outputs": [],
   "source": [
    "from formatting import *"
   ]
  },
  {
   "cell_type": "code",
   "execution_count": 18,
   "metadata": {},
   "outputs": [
    {
     "data": {
      "text/plain": [
       "\"Hey! What's the best kind of pube comb to use?\""
      ]
     },
     "execution_count": 18,
     "metadata": {},
     "output_type": "execute_result"
    }
   ],
   "source": [
    "get_question(soup)"
   ]
  },
  {
   "cell_type": "code",
   "execution_count": 19,
   "metadata": {},
   "outputs": [
    {
     "data": {
      "text/plain": [
       "'\\n\\n\\n\\n\\n\\n\\n\\n            Hey! What\\'s the best kind of pube comb to use?\\n        \\n\\n\\nMy short hairs have been gettin\\' all tangly lately and I noticed a vendor on the street selling some pube combs and brushes.  but I don\\'t buy that street stuff \\'cause I know it\\'s just cheap knockoffs of the real deal.  So for those of you who smooth out your pubes, which comb or brush do you suggest...\\n show more \\n My short hairs have been gettin\\' all tangly lately and I noticed a vendor on the street selling some pube combs and brushes.  but I don\\'t buy that street stuff \\'cause I know it\\'s just cheap knockoffs of the real deal.  So for those of you who smooth out your pubes, which comb or brush do you suggest I buy?  And is there a \"best\" brand when it comes to these necessities?\\n\\n\\n\\n\\n\\n \\nFollow \\n\\n\\n \\n 1 answer \\n1\\n\\n\\n\\nReport Abuse\\n\\n \\n\\n\\n\\n\\n\\n\\n\\n\\n\\nAre you sure you want to delete this answer?\\nYes\\nNo\\n\\n'"
      ]
     },
     "execution_count": 19,
     "metadata": {},
     "output_type": "execute_result"
    }
   ],
   "source": [
    "get_description(soup)"
   ]
  },
  {
   "cell_type": "code",
   "execution_count": 20,
   "metadata": {},
   "outputs": [
    {
     "data": {
      "text/plain": [
       "\"\\n\\n\\n\\n\\n\\n\\n\\n\\n\\nBest Answer:\\xa0\\n             A razor, keep it clean. \\n\\n\\n\\n\\n Source(s): \\n \\n\\n\\nThat Thing\\n · 5 years ago \\n\\n\\n\\n\\n\\n0\\nThumbs up\\n\\n\\n\\n0\\nThumbs down\\n\\n\\n\\n\\n\\nComment\\n\\n\\n\\n\\n\\n \\n\\n\\n\\n\\nAdd a comment\\n\\n\\n\\n\\n\\n\\n\\n\\n\\n\\n\\nSubmit\\n\\n\\n\\n\\n\\n\\n\\n\\n\\n\\n\\n\\n · just now\\n\\n\\n\\n\\n\\n\\n\\n\\n\\n\\n\\n\\n\\n                  Asker's rating\\n                \\n\\n\\n\\n\\n\\nReport Abuse\\n\\n \\n\\n\\n\\n\\n\\n\""
      ]
     },
     "execution_count": 20,
     "metadata": {},
     "output_type": "execute_result"
    }
   ],
   "source": [
    "get_answer(soup)"
   ]
  }
 ],
 "metadata": {
  "kernelspec": {
   "display_name": "9001",
   "language": "python",
   "name": "python3"
  },
  "language_info": {
   "codemirror_mode": {
    "name": "ipython",
    "version": 3
   },
   "file_extension": ".py",
   "mimetype": "text/x-python",
   "name": "python",
   "nbconvert_exporter": "python",
   "pygments_lexer": "ipython3",
   "version": "3.12.6"
  }
 },
 "nbformat": 4,
 "nbformat_minor": 2
}
