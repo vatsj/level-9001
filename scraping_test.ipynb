{
 "cells": [
  {
   "cell_type": "code",
   "execution_count": 10,
   "metadata": {},
   "outputs": [
    {
     "name": "stdout",
     "output_type": "stream",
     "text": [
      "The autoreload extension is already loaded. To reload it, use:\n",
      "  %reload_ext autoreload\n"
     ]
    },
    {
     "name": "stderr",
     "output_type": "stream",
     "text": [
      "[autoreload of scraping failed: Traceback (most recent call last):\n",
      "  File \"/Users/jstav/anaconda3/envs/9001/lib/python3.12/site-packages/IPython/extensions/autoreload.py\", line 276, in check\n",
      "    superreload(m, reload, self.old_objects)\n",
      "  File \"/Users/jstav/anaconda3/envs/9001/lib/python3.12/site-packages/IPython/extensions/autoreload.py\", line 475, in superreload\n",
      "    module = reload(module)\n",
      "             ^^^^^^^^^^^^^^\n",
      "  File \"/Users/jstav/anaconda3/envs/9001/lib/python3.12/importlib/__init__.py\", line 131, in reload\n",
      "    _bootstrap._exec(spec, module)\n",
      "  File \"<frozen importlib._bootstrap>\", line 866, in _exec\n",
      "  File \"<frozen importlib._bootstrap_external>\", line 995, in exec_module\n",
      "  File \"<frozen importlib._bootstrap>\", line 488, in _call_with_frames_removed\n",
      "  File \"/Users/jstav/code/level-9001/scraping.py\", line 66, in <module>\n",
      "    TARGET_PATH = f\"./jsonl/{name}.jsonl\"\n",
      "                             ^^^^\n",
      "NameError: name 'name' is not defined\n",
      "]\n"
     ]
    }
   ],
   "source": [
    "# magic!\n",
    "%load_ext autoreload\n",
    "%autoreload 2"
   ]
  },
  {
   "cell_type": "code",
   "execution_count": 11,
   "metadata": {},
   "outputs": [],
   "source": [
    "from scraping import *"
   ]
  },
  {
   "cell_type": "code",
   "execution_count": 12,
   "metadata": {},
   "outputs": [],
   "source": [
    "from data.links.http_wayback import HTTP_LINKS"
   ]
  },
  {
   "cell_type": "code",
   "execution_count": 13,
   "metadata": {},
   "outputs": [
    {
     "ename": "AttributeError",
     "evalue": "'NoneType' object has no attribute 'find_all'",
     "output_type": "error",
     "traceback": [
      "\u001b[0;31m---------------------------------------------------------------------------\u001b[0m",
      "\u001b[0;31mAttributeError\u001b[0m                            Traceback (most recent call last)",
      "Cell \u001b[0;32mIn[13], line 1\u001b[0m\n\u001b[0;32m----> 1\u001b[0m jsonl \u001b[38;5;241m=\u001b[39m links2jsonl(HTTP_LINKS)\n",
      "File \u001b[0;32m~/code/level-9001/scraping.py:48\u001b[0m, in \u001b[0;36mlinks2jsonl\u001b[0;34m(links)\u001b[0m\n\u001b[1;32m      0\u001b[0m <Error retrieving source code with stack_data see ipython/ipython#13598>\n",
      "File \u001b[0;32m~/code/level-9001/formatting.py:31\u001b[0m, in \u001b[0;36mget_info\u001b[0;34m(soup)\u001b[0m\n\u001b[1;32m     28\u001b[0m \u001b[38;5;28;01mdef\u001b[39;00m \u001b[38;5;21mget_info\u001b[39m(soup): \u001b[38;5;28;01mreturn\u001b[39;00m \u001b[38;5;124mf\u001b[39m\u001b[38;5;124m\"\"\"\u001b[39m\n\u001b[1;32m     29\u001b[0m \u001b[38;5;124mQUESTION: \u001b[39m\u001b[38;5;132;01m{\u001b[39;00mget_question(soup)\u001b[38;5;132;01m}\u001b[39;00m\n\u001b[1;32m     30\u001b[0m \u001b[38;5;124mDESCRIPTION: \u001b[39m\u001b[38;5;132;01m{\u001b[39;00mget_description(soup)\u001b[38;5;132;01m}\u001b[39;00m\n\u001b[0;32m---> 31\u001b[0m \u001b[38;5;124mANSWER: \u001b[39m\u001b[38;5;132;01m{\u001b[39;00mget_answer(soup)\u001b[38;5;132;01m}\u001b[39;00m\n\u001b[1;32m     32\u001b[0m \u001b[38;5;124m\"\"\"\u001b[39m\n",
      "File \u001b[0;32m~/code/level-9001/formatting.py:22\u001b[0m, in \u001b[0;36mget_answer\u001b[0;34m(soup)\u001b[0m\n\u001b[1;32m     18\u001b[0m \u001b[38;5;28;01mdef\u001b[39;00m \u001b[38;5;21mget_answer\u001b[39m(soup):\n\u001b[1;32m     19\u001b[0m \n\u001b[1;32m     20\u001b[0m     \u001b[38;5;66;03m# gets elements\u001b[39;00m\n\u001b[1;32m     21\u001b[0m     answer_elt \u001b[38;5;241m=\u001b[39m soup\u001b[38;5;241m.\u001b[39mfind(\u001b[38;5;28mid\u001b[39m\u001b[38;5;241m=\u001b[39m\u001b[38;5;124m\"\u001b[39m\u001b[38;5;124mya-best-answer\u001b[39m\u001b[38;5;124m\"\u001b[39m)\n\u001b[0;32m---> 22\u001b[0m     description_elts \u001b[38;5;241m=\u001b[39m answer_elt\u001b[38;5;241m.\u001b[39mfind_all(\u001b[38;5;124m\"\u001b[39m\u001b[38;5;124mspan\u001b[39m\u001b[38;5;124m\"\u001b[39m, class_ \u001b[38;5;241m=\u001b[39m \u001b[38;5;124m\"\u001b[39m\u001b[38;5;124mya-q-full-text\u001b[39m\u001b[38;5;124m\"\u001b[39m)\n\u001b[1;32m     24\u001b[0m     \u001b[38;5;66;03m# returns text of each element\u001b[39;00m\n\u001b[1;32m     25\u001b[0m     \u001b[38;5;28;01mreturn\u001b[39;00m [description_elt\u001b[38;5;241m.\u001b[39mget_text() \u001b[38;5;28;01mfor\u001b[39;00m description_elt \u001b[38;5;129;01min\u001b[39;00m description_elts]\n",
      "\u001b[0;31mAttributeError\u001b[0m: 'NoneType' object has no attribute 'find_all'"
     ]
    }
   ],
   "source": [
    "jsonl = links2jsonl(HTTP_LINKS)"
   ]
  },
  {
   "cell_type": "code",
   "execution_count": null,
   "metadata": {},
   "outputs": [],
   "source": [
    "jsonl"
   ]
  },
  {
   "cell_type": "code",
   "execution_count": null,
   "metadata": {},
   "outputs": [],
   "source": [
    "save_jsonl(jsonl, \"http\")"
   ]
  }
 ],
 "metadata": {
  "kernelspec": {
   "display_name": "9001",
   "language": "python",
   "name": "python3"
  },
  "language_info": {
   "codemirror_mode": {
    "name": "ipython",
    "version": 3
   },
   "file_extension": ".py",
   "mimetype": "text/x-python",
   "name": "python",
   "nbconvert_exporter": "python",
   "pygments_lexer": "ipython3",
   "version": "3.12.6"
  }
 },
 "nbformat": 4,
 "nbformat_minor": 2
}
